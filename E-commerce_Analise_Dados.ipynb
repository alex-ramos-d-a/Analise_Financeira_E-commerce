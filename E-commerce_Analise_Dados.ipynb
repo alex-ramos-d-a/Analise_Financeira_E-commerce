{
 "cells": [
  {
   "cell_type": "markdown",
   "id": "2f2e7801-bb89-49c5-8a87-229e4ac8b730",
   "metadata": {},
   "source": [
    "# E-commerce - Analise de dados "
   ]
  },
  {
   "cell_type": "markdown",
   "id": "29985f3f-6fb2-479c-8e7c-79addc2af74c",
   "metadata": {},
   "source": [
    "## Cenario"
   ]
  },
  {
   "cell_type": "code",
   "execution_count": null,
   "id": "57460467-f2d4-4d6c-b365-e70c9f7c3c45",
   "metadata": {},
   "outputs": [],
   "source": [
    "Uma empresa indiana de e-commerce quer fazer uma analise do seu desempenho do ano de 2018 e 2019 com o intuito de criar\n",
    "um perfil de cliente mais preciso, mas para isso e preciso investi na empresa e o mesmo não tem certeza se vale a pena\n",
    "realizar o investimento. Por isso que descobrir como está a saúde do negocio quando a lucro para realizar o investimento."
   ]
  },
  {
   "cell_type": "markdown",
   "id": "de68eaa3-f67d-4f7c-8279-2832228f32f2",
   "metadata": {},
   "source": [
    "## Plano de analise"
   ]
  },
  {
   "cell_type": "code",
   "execution_count": null,
   "id": "5ea62fab-a68e-4baf-a733-e8eadd002553",
   "metadata": {},
   "outputs": [],
   "source": [
    "Qual e a meta da empresa? \n",
    "3% de aumento do faturamento de um ano para o outro. \n",
    "\n",
    "Qual o objetivo da análise?\n",
    "Descobrir a saúde monetária da empresa e responder se vale a pena investir.\n",
    "\n",
    "De onde obterei os dados? \n",
    "Do site Kangle\n",
    "\n",
    "link: https://www.kaggle.com/datasets/benroshan/ecommerce-data?select=List+of+Orders.csv\n",
    "\n",
    "Quais serão as planilhas analisadas? \n",
    " List_orders,\n",
    " Orders_details,\n",
    "\n",
    "Quais serão as ferramentas utilizadas?\n",
    "Phyton e biblioteca pandas, numpy, matplotlib e seaborn.\n",
    "\n",
    "Qual será forma a fornece a credibilidade a qualidade dos dados?\n",
    "1. Limpeza inicial dos dados.\n",
    "2. Testes estatísticos referente a distribuição dos dados."
   ]
  },
  {
   "cell_type": "markdown",
   "id": "0ec3df21-4ce8-4d26-bf9b-b0eb49898dc7",
   "metadata": {},
   "source": [
    "## Passo a passo da analise"
   ]
  },
  {
   "cell_type": "code",
   "execution_count": null,
   "id": "ddee1e46-4324-4e8c-aef2-b1f0c2e63658",
   "metadata": {},
   "outputs": [],
   "source": [
    "1.Preparação dos dados,\n",
    "2.Limpeza dos dados,\n",
    "3.Teste estatistico de distribuição,\n",
    "4.Analise por questões,\n",
    "Analise por questões:\n",
    "    1.Qual o valor que representa 3% de crescimento de lucro ao ano? \n",
    "    2.Quais são os periodos mensais do ano de 2018 e 2019 que batem a meta?\n",
    "    3.Qual a proporção dos top 10 clientes em relação aos demais do ano 2019? E qual impacto no lucro? \n",
    "    4.Top 7 estados que aparecem no ano de 2018 e 2019? \n",
    "    5.Como esta o lucro de produtos por categoria no ano de 2018 e 2019?   \n",
    "5.Descobertas"
   ]
  },
  {
   "cell_type": "markdown",
   "id": "6e61744c-dd55-4d13-bfe7-def43a9a7d92",
   "metadata": {},
   "source": [
    "## Preparação dos dados"
   ]
  },
  {
   "cell_type": "code",
   "execution_count": 889,
   "id": "dfcb83e0-6db9-4431-843e-d45fa4656bda",
   "metadata": {},
   "outputs": [],
   "source": [
    "import pandas as pd\n",
    "import numpy as np\n",
    "import seaborn as sns\n",
    "import matplotlib.pyplot as plt\n",
    "import dataframe_image as dfi\n",
    "\n",
    "sns.set_style('white')"
   ]
  },
  {
   "cell_type": "code",
   "execution_count": 63,
   "id": "2ff0dbc0-ef02-44e4-a67a-be8d3f19806a",
   "metadata": {},
   "outputs": [
    {
     "data": {
      "text/html": [
       "<div>\n",
       "<style scoped>\n",
       "    .dataframe tbody tr th:only-of-type {\n",
       "        vertical-align: middle;\n",
       "    }\n",
       "\n",
       "    .dataframe tbody tr th {\n",
       "        vertical-align: top;\n",
       "    }\n",
       "\n",
       "    .dataframe thead th {\n",
       "        text-align: right;\n",
       "    }\n",
       "</style>\n",
       "<table border=\"1\" class=\"dataframe\">\n",
       "  <thead>\n",
       "    <tr style=\"text-align: right;\">\n",
       "      <th></th>\n",
       "      <th>Order ID</th>\n",
       "      <th>Order Date</th>\n",
       "      <th>CustomerName</th>\n",
       "      <th>State</th>\n",
       "      <th>City</th>\n",
       "    </tr>\n",
       "  </thead>\n",
       "  <tbody>\n",
       "    <tr>\n",
       "      <th>0</th>\n",
       "      <td>B-25601</td>\n",
       "      <td>01-04-2018</td>\n",
       "      <td>Bharat</td>\n",
       "      <td>Gujarat</td>\n",
       "      <td>Ahmedabad</td>\n",
       "    </tr>\n",
       "    <tr>\n",
       "      <th>1</th>\n",
       "      <td>B-25602</td>\n",
       "      <td>01-04-2018</td>\n",
       "      <td>Pearl</td>\n",
       "      <td>Maharashtra</td>\n",
       "      <td>Pune</td>\n",
       "    </tr>\n",
       "  </tbody>\n",
       "</table>\n",
       "</div>"
      ],
      "text/plain": [
       "  Order ID  Order Date CustomerName        State       City\n",
       "0  B-25601  01-04-2018       Bharat      Gujarat  Ahmedabad\n",
       "1  B-25602  01-04-2018        Pearl  Maharashtra       Pune"
      ]
     },
     "execution_count": 63,
     "metadata": {},
     "output_type": "execute_result"
    }
   ],
   "source": [
    "ft_orders = pd.read_csv(r'C:\\Users\\ramos\\Desktop\\Project Data Analyst\\My Own\\List of Orders.csv', \n",
    "                   sep=',', \n",
    "                   encoding='utf-8')\n",
    "ft_orders.head(2)"
   ]
  },
  {
   "cell_type": "code",
   "execution_count": 65,
   "id": "70ee38b9-31a1-4035-bea9-7c34b9efb5d1",
   "metadata": {},
   "outputs": [
    {
     "data": {
      "text/html": [
       "<div>\n",
       "<style scoped>\n",
       "    .dataframe tbody tr th:only-of-type {\n",
       "        vertical-align: middle;\n",
       "    }\n",
       "\n",
       "    .dataframe tbody tr th {\n",
       "        vertical-align: top;\n",
       "    }\n",
       "\n",
       "    .dataframe thead th {\n",
       "        text-align: right;\n",
       "    }\n",
       "</style>\n",
       "<table border=\"1\" class=\"dataframe\">\n",
       "  <thead>\n",
       "    <tr style=\"text-align: right;\">\n",
       "      <th></th>\n",
       "      <th>Order ID</th>\n",
       "      <th>Amount</th>\n",
       "      <th>Profit</th>\n",
       "      <th>Quantity</th>\n",
       "      <th>Category</th>\n",
       "      <th>Sub-Category</th>\n",
       "    </tr>\n",
       "  </thead>\n",
       "  <tbody>\n",
       "    <tr>\n",
       "      <th>0</th>\n",
       "      <td>B-25601</td>\n",
       "      <td>1275.0</td>\n",
       "      <td>-1148.0</td>\n",
       "      <td>7</td>\n",
       "      <td>Furniture</td>\n",
       "      <td>Bookcases</td>\n",
       "    </tr>\n",
       "    <tr>\n",
       "      <th>1</th>\n",
       "      <td>B-25601</td>\n",
       "      <td>66.0</td>\n",
       "      <td>-12.0</td>\n",
       "      <td>5</td>\n",
       "      <td>Clothing</td>\n",
       "      <td>Stole</td>\n",
       "    </tr>\n",
       "  </tbody>\n",
       "</table>\n",
       "</div>"
      ],
      "text/plain": [
       "  Order ID  Amount  Profit  Quantity   Category Sub-Category\n",
       "0  B-25601  1275.0 -1148.0         7  Furniture    Bookcases\n",
       "1  B-25601    66.0   -12.0         5   Clothing        Stole"
      ]
     },
     "execution_count": 65,
     "metadata": {},
     "output_type": "execute_result"
    }
   ],
   "source": [
    "dim_details = pd.read_csv(r'C:\\Users\\ramos\\Desktop\\Project Data Analyst\\My Own\\Order Details.csv', \n",
    "                   sep=',', \n",
    "                   encoding='utf-8')\n",
    "dim_details.head(2)"
   ]
  },
  {
   "cell_type": "code",
   "execution_count": 72,
   "id": "81c0196a-c2da-44b7-b3b8-f16b1d266903",
   "metadata": {},
   "outputs": [],
   "source": [
    "#Juntando as 2° planilhas\n",
    "ord_det = pd.merge(right=ft_orders, left=dim_details, how='outer', on='Order ID' ) "
   ]
  },
  {
   "cell_type": "markdown",
   "id": "036c172b-9bf3-4c9d-b5e2-e8a0a21252d4",
   "metadata": {},
   "source": [
    "## Limpeza dos dados"
   ]
  },
  {
   "cell_type": "code",
   "execution_count": 73,
   "id": "c238540d-b184-455c-8cf5-36487ae2223f",
   "metadata": {},
   "outputs": [
    {
     "data": {
      "text/html": [
       "<div>\n",
       "<style scoped>\n",
       "    .dataframe tbody tr th:only-of-type {\n",
       "        vertical-align: middle;\n",
       "    }\n",
       "\n",
       "    .dataframe tbody tr th {\n",
       "        vertical-align: top;\n",
       "    }\n",
       "\n",
       "    .dataframe thead th {\n",
       "        text-align: right;\n",
       "    }\n",
       "</style>\n",
       "<table border=\"1\" class=\"dataframe\">\n",
       "  <thead>\n",
       "    <tr style=\"text-align: right;\">\n",
       "      <th></th>\n",
       "      <th>Order ID</th>\n",
       "      <th>Amount</th>\n",
       "      <th>Profit</th>\n",
       "      <th>Quantity</th>\n",
       "      <th>Category</th>\n",
       "      <th>Sub-Category</th>\n",
       "      <th>Order Date</th>\n",
       "      <th>CustomerName</th>\n",
       "      <th>State</th>\n",
       "      <th>City</th>\n",
       "    </tr>\n",
       "  </thead>\n",
       "  <tbody>\n",
       "    <tr>\n",
       "      <th>0</th>\n",
       "      <td>B-25601</td>\n",
       "      <td>1275.0</td>\n",
       "      <td>-1148.0</td>\n",
       "      <td>7.0</td>\n",
       "      <td>Furniture</td>\n",
       "      <td>Bookcases</td>\n",
       "      <td>01-04-2018</td>\n",
       "      <td>Bharat</td>\n",
       "      <td>Gujarat</td>\n",
       "      <td>Ahmedabad</td>\n",
       "    </tr>\n",
       "    <tr>\n",
       "      <th>1</th>\n",
       "      <td>B-25601</td>\n",
       "      <td>66.0</td>\n",
       "      <td>-12.0</td>\n",
       "      <td>5.0</td>\n",
       "      <td>Clothing</td>\n",
       "      <td>Stole</td>\n",
       "      <td>01-04-2018</td>\n",
       "      <td>Bharat</td>\n",
       "      <td>Gujarat</td>\n",
       "      <td>Ahmedabad</td>\n",
       "    </tr>\n",
       "    <tr>\n",
       "      <th>2</th>\n",
       "      <td>B-25601</td>\n",
       "      <td>8.0</td>\n",
       "      <td>-2.0</td>\n",
       "      <td>3.0</td>\n",
       "      <td>Clothing</td>\n",
       "      <td>Hankerchief</td>\n",
       "      <td>01-04-2018</td>\n",
       "      <td>Bharat</td>\n",
       "      <td>Gujarat</td>\n",
       "      <td>Ahmedabad</td>\n",
       "    </tr>\n",
       "  </tbody>\n",
       "</table>\n",
       "</div>"
      ],
      "text/plain": [
       "  Order ID  Amount  Profit  Quantity   Category Sub-Category  Order Date  \\\n",
       "0  B-25601  1275.0 -1148.0       7.0  Furniture    Bookcases  01-04-2018   \n",
       "1  B-25601    66.0   -12.0       5.0   Clothing        Stole  01-04-2018   \n",
       "2  B-25601     8.0    -2.0       3.0   Clothing  Hankerchief  01-04-2018   \n",
       "\n",
       "  CustomerName    State       City  \n",
       "0       Bharat  Gujarat  Ahmedabad  \n",
       "1       Bharat  Gujarat  Ahmedabad  \n",
       "2       Bharat  Gujarat  Ahmedabad  "
      ]
     },
     "execution_count": 73,
     "metadata": {},
     "output_type": "execute_result"
    }
   ],
   "source": [
    "ord_det.head(3)"
   ]
  },
  {
   "cell_type": "code",
   "execution_count": 106,
   "id": "86cd68e4-eaa4-4cd1-8edb-5effbb7b90f0",
   "metadata": {},
   "outputs": [
    {
     "data": {
      "text/html": [
       "<div>\n",
       "<style scoped>\n",
       "    .dataframe tbody tr th:only-of-type {\n",
       "        vertical-align: middle;\n",
       "    }\n",
       "\n",
       "    .dataframe tbody tr th {\n",
       "        vertical-align: top;\n",
       "    }\n",
       "\n",
       "    .dataframe thead th {\n",
       "        text-align: right;\n",
       "    }\n",
       "</style>\n",
       "<table border=\"1\" class=\"dataframe\">\n",
       "  <thead>\n",
       "    <tr style=\"text-align: right;\">\n",
       "      <th></th>\n",
       "      <th>Order ID</th>\n",
       "      <th>Amount</th>\n",
       "      <th>Profit</th>\n",
       "      <th>Quantity</th>\n",
       "      <th>Category</th>\n",
       "      <th>Sub-Category</th>\n",
       "      <th>Order Date</th>\n",
       "      <th>CustomerName</th>\n",
       "      <th>State</th>\n",
       "      <th>City</th>\n",
       "    </tr>\n",
       "  </thead>\n",
       "  <tbody>\n",
       "    <tr>\n",
       "      <th>1497</th>\n",
       "      <td>B-26100</td>\n",
       "      <td>828.0</td>\n",
       "      <td>230.0</td>\n",
       "      <td>2.0</td>\n",
       "      <td>Furniture</td>\n",
       "      <td>Chairs</td>\n",
       "      <td>2019-03-31</td>\n",
       "      <td>Hitika</td>\n",
       "      <td>Madhya Pradesh</td>\n",
       "      <td>Indore</td>\n",
       "    </tr>\n",
       "    <tr>\n",
       "      <th>1498</th>\n",
       "      <td>B-26100</td>\n",
       "      <td>34.0</td>\n",
       "      <td>10.0</td>\n",
       "      <td>2.0</td>\n",
       "      <td>Clothing</td>\n",
       "      <td>T-shirt</td>\n",
       "      <td>2019-03-31</td>\n",
       "      <td>Hitika</td>\n",
       "      <td>Madhya Pradesh</td>\n",
       "      <td>Indore</td>\n",
       "    </tr>\n",
       "    <tr>\n",
       "      <th>1499</th>\n",
       "      <td>B-26100</td>\n",
       "      <td>72.0</td>\n",
       "      <td>16.0</td>\n",
       "      <td>2.0</td>\n",
       "      <td>Clothing</td>\n",
       "      <td>Shirt</td>\n",
       "      <td>2019-03-31</td>\n",
       "      <td>Hitika</td>\n",
       "      <td>Madhya Pradesh</td>\n",
       "      <td>Indore</td>\n",
       "    </tr>\n",
       "  </tbody>\n",
       "</table>\n",
       "</div>"
      ],
      "text/plain": [
       "     Order ID  Amount  Profit  Quantity   Category Sub-Category Order Date  \\\n",
       "1497  B-26100   828.0   230.0       2.0  Furniture       Chairs 2019-03-31   \n",
       "1498  B-26100    34.0    10.0       2.0   Clothing      T-shirt 2019-03-31   \n",
       "1499  B-26100    72.0    16.0       2.0   Clothing        Shirt 2019-03-31   \n",
       "\n",
       "     CustomerName           State    City  \n",
       "1497       Hitika  Madhya Pradesh  Indore  \n",
       "1498       Hitika  Madhya Pradesh  Indore  \n",
       "1499       Hitika  Madhya Pradesh  Indore  "
      ]
     },
     "execution_count": 106,
     "metadata": {},
     "output_type": "execute_result"
    }
   ],
   "source": [
    "ord_det.tail(3)"
   ]
  },
  {
   "cell_type": "code",
   "execution_count": 71,
   "id": "cd6b4795-4a1f-4a11-b485-266dc6ddf0ee",
   "metadata": {},
   "outputs": [
    {
     "name": "stdout",
     "output_type": "stream",
     "text": [
      "<class 'pandas.core.frame.DataFrame'>\n",
      "Int64Index: 1560 entries, 0 to 1559\n",
      "Data columns (total 10 columns):\n",
      " #   Column        Non-Null Count  Dtype  \n",
      "---  ------        --------------  -----  \n",
      " 0   Order ID      1500 non-null   object \n",
      " 1   Amount        1500 non-null   float64\n",
      " 2   Profit        1500 non-null   float64\n",
      " 3   Quantity      1500 non-null   float64\n",
      " 4   Category      1500 non-null   object \n",
      " 5   Sub-Category  1500 non-null   object \n",
      " 6   Order Date    1500 non-null   object \n",
      " 7   CustomerName  1500 non-null   object \n",
      " 8   State         1500 non-null   object \n",
      " 9   City          1500 non-null   object \n",
      "dtypes: float64(3), object(7)\n",
      "memory usage: 134.1+ KB\n"
     ]
    }
   ],
   "source": [
    "ord_det.info()"
   ]
  },
  {
   "cell_type": "code",
   "execution_count": 75,
   "id": "01fdc976-1bcd-4fbc-89e5-a99690db9e41",
   "metadata": {},
   "outputs": [
    {
     "data": {
      "text/plain": [
       "array(['Furniture', 'Clothing', 'Electronics', nan], dtype=object)"
      ]
     },
     "execution_count": 75,
     "metadata": {},
     "output_type": "execute_result"
    }
   ],
   "source": [
    "# Verificando valores categoricos\n",
    "ord_det.Category.unique()"
   ]
  },
  {
   "cell_type": "code",
   "execution_count": 79,
   "id": "9a56ec19-ece3-49f6-b3a2-04df074f90a7",
   "metadata": {},
   "outputs": [
    {
     "data": {
      "text/plain": [
       "array(['Bookcases', 'Stole', 'Hankerchief', 'Electronic Games', 'Phones',\n",
       "       'Saree', 'Trousers', 'Chairs', 'Kurti', 'T-shirt', 'Shirt',\n",
       "       'Leggings', 'Tables', 'Printers', 'Accessories', 'Furnishings',\n",
       "       'Skirt', nan], dtype=object)"
      ]
     },
     "execution_count": 79,
     "metadata": {},
     "output_type": "execute_result"
    }
   ],
   "source": [
    "# Verificando grande lista de valores tipo texto.\n",
    "ord_det['Sub-Category'].unique()"
   ]
  },
  {
   "cell_type": "code",
   "execution_count": 99,
   "id": "cd43c415-8a2e-4a49-b382-cdeb3d6b557b",
   "metadata": {},
   "outputs": [
    {
     "name": "stderr",
     "output_type": "stream",
     "text": [
      "C:\\Users\\ramos\\AppData\\Local\\Temp\\ipykernel_1028\\200935956.py:2: UserWarning: Parsing dates in DD/MM/YYYY format when dayfirst=False (the default) was specified. This may lead to inconsistently parsed dates! Specify a format to ensure consistent parsing.\n",
      "  ord_det['Order Date'] = pd.to_datetime(ord_det['Order Date'])\n"
     ]
    }
   ],
   "source": [
    "#Mudando tipo de dado\n",
    "ord_det['Order Date'] = pd.to_datetime(ord_det['Order Date'])"
   ]
  },
  {
   "cell_type": "code",
   "execution_count": 91,
   "id": "332baeaa-7ca5-4368-9042-4fe82ca2137e",
   "metadata": {},
   "outputs": [
    {
     "data": {
      "text/plain": [
       "Order ID        60\n",
       "Amount          60\n",
       "Profit          60\n",
       "Quantity        60\n",
       "Category        60\n",
       "Sub-Category    60\n",
       "Order Date      60\n",
       "CustomerName    60\n",
       "State           60\n",
       "City            60\n",
       "Date            60\n",
       "dtype: int64"
      ]
     },
     "execution_count": 91,
     "metadata": {},
     "output_type": "execute_result"
    }
   ],
   "source": [
    "ord_det.isnull().sum()"
   ]
  },
  {
   "cell_type": "code",
   "execution_count": 96,
   "id": "c1def0d9-ad93-4f95-b4f1-b2f51df26966",
   "metadata": {},
   "outputs": [],
   "source": [
    "#Removendo todos NaN\n",
    "ord_det.dropna(how='all', inplace=True)"
   ]
  },
  {
   "cell_type": "code",
   "execution_count": 104,
   "id": "4edbafcd-20fc-4d54-aae9-fc610a9046f1",
   "metadata": {},
   "outputs": [
    {
     "data": {
      "text/html": [
       "<div>\n",
       "<style scoped>\n",
       "    .dataframe tbody tr th:only-of-type {\n",
       "        vertical-align: middle;\n",
       "    }\n",
       "\n",
       "    .dataframe tbody tr th {\n",
       "        vertical-align: top;\n",
       "    }\n",
       "\n",
       "    .dataframe thead th {\n",
       "        text-align: right;\n",
       "    }\n",
       "</style>\n",
       "<table border=\"1\" class=\"dataframe\">\n",
       "  <thead>\n",
       "    <tr style=\"text-align: right;\">\n",
       "      <th></th>\n",
       "      <th>Order ID</th>\n",
       "      <th>Amount</th>\n",
       "      <th>Profit</th>\n",
       "      <th>Quantity</th>\n",
       "      <th>Category</th>\n",
       "      <th>Sub-Category</th>\n",
       "      <th>Order Date</th>\n",
       "      <th>CustomerName</th>\n",
       "      <th>State</th>\n",
       "      <th>City</th>\n",
       "    </tr>\n",
       "  </thead>\n",
       "  <tbody>\n",
       "    <tr>\n",
       "      <th>0</th>\n",
       "      <td>B-25601</td>\n",
       "      <td>1275.0</td>\n",
       "      <td>-1148.0</td>\n",
       "      <td>7.0</td>\n",
       "      <td>Furniture</td>\n",
       "      <td>Bookcases</td>\n",
       "      <td>2018-01-04</td>\n",
       "      <td>Bharat</td>\n",
       "      <td>Gujarat</td>\n",
       "      <td>Ahmedabad</td>\n",
       "    </tr>\n",
       "    <tr>\n",
       "      <th>1</th>\n",
       "      <td>B-25601</td>\n",
       "      <td>66.0</td>\n",
       "      <td>-12.0</td>\n",
       "      <td>5.0</td>\n",
       "      <td>Clothing</td>\n",
       "      <td>Stole</td>\n",
       "      <td>2018-01-04</td>\n",
       "      <td>Bharat</td>\n",
       "      <td>Gujarat</td>\n",
       "      <td>Ahmedabad</td>\n",
       "    </tr>\n",
       "    <tr>\n",
       "      <th>2</th>\n",
       "      <td>B-25601</td>\n",
       "      <td>8.0</td>\n",
       "      <td>-2.0</td>\n",
       "      <td>3.0</td>\n",
       "      <td>Clothing</td>\n",
       "      <td>Hankerchief</td>\n",
       "      <td>2018-01-04</td>\n",
       "      <td>Bharat</td>\n",
       "      <td>Gujarat</td>\n",
       "      <td>Ahmedabad</td>\n",
       "    </tr>\n",
       "    <tr>\n",
       "      <th>3</th>\n",
       "      <td>B-25601</td>\n",
       "      <td>80.0</td>\n",
       "      <td>-56.0</td>\n",
       "      <td>4.0</td>\n",
       "      <td>Electronics</td>\n",
       "      <td>Electronic Games</td>\n",
       "      <td>2018-01-04</td>\n",
       "      <td>Bharat</td>\n",
       "      <td>Gujarat</td>\n",
       "      <td>Ahmedabad</td>\n",
       "    </tr>\n",
       "    <tr>\n",
       "      <th>4</th>\n",
       "      <td>B-25602</td>\n",
       "      <td>168.0</td>\n",
       "      <td>-111.0</td>\n",
       "      <td>2.0</td>\n",
       "      <td>Electronics</td>\n",
       "      <td>Phones</td>\n",
       "      <td>2018-01-04</td>\n",
       "      <td>Pearl</td>\n",
       "      <td>Maharashtra</td>\n",
       "      <td>Pune</td>\n",
       "    </tr>\n",
       "  </tbody>\n",
       "</table>\n",
       "</div>"
      ],
      "text/plain": [
       "  Order ID  Amount  Profit  Quantity     Category      Sub-Category  \\\n",
       "0  B-25601  1275.0 -1148.0       7.0    Furniture         Bookcases   \n",
       "1  B-25601    66.0   -12.0       5.0     Clothing             Stole   \n",
       "2  B-25601     8.0    -2.0       3.0     Clothing       Hankerchief   \n",
       "3  B-25601    80.0   -56.0       4.0  Electronics  Electronic Games   \n",
       "4  B-25602   168.0  -111.0       2.0  Electronics            Phones   \n",
       "\n",
       "  Order Date CustomerName        State       City  \n",
       "0 2018-01-04       Bharat      Gujarat  Ahmedabad  \n",
       "1 2018-01-04       Bharat      Gujarat  Ahmedabad  \n",
       "2 2018-01-04       Bharat      Gujarat  Ahmedabad  \n",
       "3 2018-01-04       Bharat      Gujarat  Ahmedabad  \n",
       "4 2018-01-04        Pearl  Maharashtra       Pune  "
      ]
     },
     "execution_count": 104,
     "metadata": {},
     "output_type": "execute_result"
    }
   ],
   "source": [
    "#Visualização df\n",
    "ord_det.head()"
   ]
  },
  {
   "cell_type": "markdown",
   "id": "0e38d8e9-64d4-4656-a26a-32b654c32e08",
   "metadata": {},
   "source": [
    "## Testes Estatistico de Distribuição"
   ]
  },
  {
   "cell_type": "code",
   "execution_count": null,
   "id": "80f41ecb-1b17-4341-8815-f1a53211badd",
   "metadata": {},
   "outputs": [],
   "source": [
    "Sobre o teste:\n",
    "O mesmo e feito somente com as variáveis numéricas, pois busca de descobrir a normalização \n",
    "dos dados. Isso é se os dados estão distribuídos da forma que deviam. \n",
    "    \n",
    "Por que e importante? \n",
    "Evita erros de compreensão tanto nas amostras como nas perguntas estatística que podem \n",
    "ser feitas posteriormente."
   ]
  },
  {
   "cell_type": "code",
   "execution_count": 108,
   "id": "6d58bdc2-11d1-4ca6-8b0a-81f6abdebe75",
   "metadata": {},
   "outputs": [
    {
     "name": "stdout",
     "output_type": "stream",
     "text": [
      "Amount\n",
      "Profit\n",
      "Quantity\n"
     ]
    }
   ],
   "source": [
    "#Descobrir variaveis numericas\n",
    "for col in ord_det.describe():\n",
    "    print(col)"
   ]
  },
  {
   "cell_type": "markdown",
   "id": "e7af0fdf-a1c1-41ae-bd8d-94b2a7da555f",
   "metadata": {},
   "source": [
    "### Coluna Amount"
   ]
  },
  {
   "cell_type": "code",
   "execution_count": 124,
   "id": "e6a1958c-7969-4fcc-ae1f-039b8fd13c41",
   "metadata": {},
   "outputs": [
    {
     "data": {
      "text/plain": [
       "count    1500.000000\n",
       "mean      287.668000\n",
       "std       461.050488\n",
       "min         4.000000\n",
       "25%        45.000000\n",
       "50%       118.000000\n",
       "75%       322.000000\n",
       "max      5729.000000\n",
       "Name: Amount, dtype: float64"
      ]
     },
     "execution_count": 124,
     "metadata": {},
     "output_type": "execute_result"
    }
   ],
   "source": [
    "ord_det['Amount'].describe()"
   ]
  },
  {
   "cell_type": "code",
   "execution_count": 863,
   "id": "13428362-518b-4291-ba6b-52ed474447b5",
   "metadata": {},
   "outputs": [
    {
     "data": {
      "image/png": "[encoded data removed]",
      "text/plain": [
       "<Figure size 1400x400 with 2 Axes>"
      ]
     },
     "metadata": {},
     "output_type": "display_data"
    }
   ],
   "source": [
    "fig, ax = plt.subplots(1,2, figsize=(14,4))\n",
    "fig.suptitle('Distribuição coluna Amount', size=14)\n",
    "\n",
    "sns.histplot(ax= ax[0], x='Amount', data=ord_det);\n",
    "ax[0].set_title('Histograma')\n",
    "\n",
    "sns.boxplot(ax= ax[1], x='Amount', data=ord_det);\n",
    "ax[1].set_title('Boxplot');\n",
    "\n",
    "plt.savefig('coluna_amount.png')"
   ]
  },
  {
   "cell_type": "code",
   "execution_count": null,
   "id": "5eea4b6f-087d-4791-8738-de33c54cc906",
   "metadata": {},
   "outputs": [],
   "source": [
    "Sobre:\n",
    "    i. E visível que se tratando somente da distribuição dos dados o valor inicial de outlier e de 1000.\n",
    "    ii. Temos uma concentração de valores em grupos com frequências entre 50 e 600 unidades.\n",
    "    iii. Deve-se ter cautela com os valores referenciando os outliers, pois os mesmos têm pouca expressividade quando diz respeito a proporção total."
   ]
  },
  {
   "cell_type": "markdown",
   "id": "641fa704-95a4-4c3f-b5a2-7a8113c2c135",
   "metadata": {},
   "source": [
    "### Coluna Profit"
   ]
  },
  {
   "cell_type": "code",
   "execution_count": 132,
   "id": "8e5cc6e8-bba1-423a-ad77-b942d87dd216",
   "metadata": {},
   "outputs": [
    {
     "data": {
      "text/plain": [
       "count    1500.000000\n",
       "mean       15.970000\n",
       "std       169.140565\n",
       "min     -1981.000000\n",
       "25%        -9.250000\n",
       "50%         9.000000\n",
       "75%        38.000000\n",
       "max      1698.000000\n",
       "Name: Profit, dtype: float64"
      ]
     },
     "execution_count": 132,
     "metadata": {},
     "output_type": "execute_result"
    }
   ],
   "source": [
    "ord_det['Profit'].describe()"
   ]
  },
  {
   "cell_type": "code",
   "execution_count": 865,
   "id": "926edd8f-d8c8-49ce-8b33-da8bdeac9124",
   "metadata": {},
   "outputs": [
    {
     "data": {
      "image/png": "[encoded data removed]",
      "text/plain": [
       "<Figure size 1400x400 with 2 Axes>"
      ]
     },
     "metadata": {},
     "output_type": "display_data"
    }
   ],
   "source": [
    "fig, ax = plt.subplots(1,2, figsize=(14,4))\n",
    "fig.suptitle('Distribuição coluna Profit', size=14)\n",
    "\n",
    "sns.histplot(ax= ax[0], x='Profit', data=ord_det);\n",
    "ax[0].set_title('Histograma')\n",
    "\n",
    "sns.boxplot(ax= ax[1], x='Profit', data=ord_det);\n",
    "ax[1].set_title('Boxplot');\n",
    "\n",
    "plt.savefig('coluna_profit.png')"
   ]
  },
  {
   "cell_type": "code",
   "execution_count": null,
   "id": "1a2b67e6-5a84-430e-ade0-a8ce12407258",
   "metadata": {},
   "outputs": [],
   "source": [
    "Sobre: \n",
    "    i. O mais interessante são os valores negativos que podem indicar um problema na qualidade dos dados ou que a empresa de \n",
    "       fato passou por períodos sem lucro algum.\n",
    "       \n",
    "           Obs: A coluna já veio com o seu nome indicando lucro, pois isso estou considerando esse aspecto.\n",
    "       \n",
    "    ii. Considerando que isso pode ser um erro na qualidade dos dados, talvez uma opção seria contabilizar os dados a partir \n",
    "        de um valor mínimo negativo ou do valor zero"
   ]
  },
  {
   "cell_type": "markdown",
   "id": "5b7fcf4f-9f7b-44c8-b623-2dd895c40ecd",
   "metadata": {},
   "source": [
    "### Coluna Quantity"
   ]
  },
  {
   "cell_type": "code",
   "execution_count": 137,
   "id": "0d5d5fcf-8b33-4b3d-8bd9-b0b5cac16929",
   "metadata": {},
   "outputs": [
    {
     "data": {
      "text/plain": [
       "count    1500.000000\n",
       "mean        3.743333\n",
       "std         2.184942\n",
       "min         1.000000\n",
       "25%         2.000000\n",
       "50%         3.000000\n",
       "75%         5.000000\n",
       "max        14.000000\n",
       "Name: Quantity, dtype: float64"
      ]
     },
     "execution_count": 137,
     "metadata": {},
     "output_type": "execute_result"
    }
   ],
   "source": [
    "ord_det['Quantity'].describe()"
   ]
  },
  {
   "cell_type": "code",
   "execution_count": 868,
   "id": "693aa5c6-e542-42b9-bf24-57d6723d3b31",
   "metadata": {},
   "outputs": [
    {
     "data": {
      "image/png": "[encoded data removed]",
      "text/plain": [
       "<Figure size 1400x400 with 2 Axes>"
      ]
     },
     "metadata": {},
     "output_type": "display_data"
    }
   ],
   "source": [
    "fig, ax = plt.subplots(1,2, figsize=(14,4))\n",
    "fig.suptitle('Distribuição coluna Quantity', size=14)\n",
    "\n",
    "sns.histplot(ax= ax[0], x='Quantity', data=ord_det);\n",
    "ax[0].set_title('Histograma')\n",
    "\n",
    "sns.boxplot(ax= ax[1], x='Quantity', data=ord_det);\n",
    "ax[1].set_title('Boxplot');\n",
    "\n",
    "plt.savefig('coluna_quantity.png')"
   ]
  },
  {
   "cell_type": "code",
   "execution_count": null,
   "id": "a575ca15-e0e5-4efb-b887-d716f9e80d39",
   "metadata": {},
   "outputs": [],
   "source": [
    "Sobre:\n",
    "    i. Esse espaçamento entre as barras no histograma indica que temos uma variação de valores fixo, isso é não tem números\n",
    "       decimais, oque não e problema já que a coluna se refere a quantidade de produtos.\n",
    "    ii.Podemos considerar abaixo do número 9 os outliers e por agir com cautela em decisões que levam em conta cliente \n",
    "       acima de produtos, já que temos uma pouca concentração dos mesmos. "
   ]
  },
  {
   "cell_type": "markdown",
   "id": "fc3972e9-2ebe-4a25-affa-66033e627c7d",
   "metadata": {},
   "source": [
    "## Analise por questões"
   ]
  },
  {
   "cell_type": "code",
   "execution_count": null,
   "id": "b3ddb4ee-d277-4ac6-a2d0-35fae793a390",
   "metadata": {},
   "outputs": [],
   "source": [
    "Do que se trata? \n",
    "De questões feita em relação ao desempenho da empresa, com o objetivo de descobrir um perfil de cliente mais preciso."
   ]
  },
  {
   "cell_type": "markdown",
   "id": "ccd566a4-7804-4cdd-836a-be9874250fb6",
   "metadata": {},
   "source": [
    "### 1. Qual o valor que representa 3% de crescimento do lucro ao ano? "
   ]
  },
  {
   "cell_type": "code",
   "execution_count": 201,
   "id": "a5771356-ff18-436b-9cde-2b8df3fdb00b",
   "metadata": {},
   "outputs": [],
   "source": [
    "#Criação da granularidade \n",
    "ord_det['Year'] = pd.to_datetime(ord_det['Order Date']).dt.year\n",
    "ord_det['Month'] = pd.to_datetime(ord_det['Order Date']).dt.month\n",
    "ord_det['Quarter'] = pd.to_datetime(ord_det['Order Date']).dt.quarter"
   ]
  },
  {
   "cell_type": "markdown",
   "id": "de944cc9-553a-45c3-a540-ef4d13c44934",
   "metadata": {},
   "source": [
    "#### Calculo para descobrir o valor dos 3% "
   ]
  },
  {
   "cell_type": "code",
   "execution_count": 986,
   "id": "9268282a-a6ac-4516-ad83-4ff7c8cf0a47",
   "metadata": {},
   "outputs": [],
   "source": [
    "# valor 3%\n",
    "tres_perc_18 = 3 * -1799 / 100\n",
    "tres_perc_18 = 53.97"
   ]
  },
  {
   "cell_type": "code",
   "execution_count": 987,
   "id": "b565ffd6-f915-4822-bf5e-354e57256e76",
   "metadata": {},
   "outputs": [
    {
     "data": {
      "text/plain": [
       "-1745.03"
      ]
     },
     "execution_count": 987,
     "metadata": {},
     "output_type": "execute_result"
    }
   ],
   "source": [
    "# Valor meta anual 2018 + 3%\n",
    "tres_perc_18 + -1799"
   ]
  },
  {
   "cell_type": "code",
   "execution_count": 989,
   "id": "cc01bce6-4e35-4ff1-9dd9-f85b5a99a700",
   "metadata": {},
   "outputs": [
    {
     "data": {
      "text/plain": [
       "-145.41916666666665"
      ]
     },
     "execution_count": 989,
     "metadata": {},
     "output_type": "execute_result"
    }
   ],
   "source": [
    "# Valor meta mensal 2018 + 3%\n",
    "-1745.03 / 12"
   ]
  },
  {
   "cell_type": "code",
   "execution_count": 851,
   "id": "a850d6ef-ab46-44ba-93a9-f9deae24c00a",
   "metadata": {},
   "outputs": [
    {
     "data": {
      "text/plain": [
       "772.62"
      ]
     },
     "execution_count": 851,
     "metadata": {},
     "output_type": "execute_result"
    }
   ],
   "source": [
    "# valor 3%\n",
    "tres_perc_19 = 3 * 25754 / 100\n",
    "tres_perc_19"
   ]
  },
  {
   "cell_type": "code",
   "execution_count": 264,
   "id": "f7c7c872-7f52-43f0-8f36-5a8cf5dfdfe7",
   "metadata": {},
   "outputs": [
    {
     "data": {
      "text/plain": [
       "26526.62"
      ]
     },
     "execution_count": 264,
     "metadata": {},
     "output_type": "execute_result"
    }
   ],
   "source": [
    "# Valor meta anual 2019 + 3%\n",
    "tres_perc_19 + 25754"
   ]
  },
  {
   "cell_type": "code",
   "execution_count": 990,
   "id": "9c5a2f04-c0c9-4f9b-b276-c1c66f09f2a7",
   "metadata": {},
   "outputs": [
    {
     "data": {
      "text/plain": [
       "2210.5516666666667"
      ]
     },
     "execution_count": 990,
     "metadata": {},
     "output_type": "execute_result"
    }
   ],
   "source": [
    "# Valor meta mensal 2018 + 3%\n",
    "26526.62 / 12"
   ]
  },
  {
   "cell_type": "code",
   "execution_count": 995,
   "id": "bfbc9fe2-6dca-44db-8ee9-1e523b099c59",
   "metadata": {},
   "outputs": [
    {
     "data": {
      "text/html": [
       "<div>\n",
       "<style scoped>\n",
       "    .dataframe tbody tr th:only-of-type {\n",
       "        vertical-align: middle;\n",
       "    }\n",
       "\n",
       "    .dataframe tbody tr th {\n",
       "        vertical-align: top;\n",
       "    }\n",
       "\n",
       "    .dataframe thead th {\n",
       "        text-align: right;\n",
       "    }\n",
       "</style>\n",
       "<table border=\"1\" class=\"dataframe\">\n",
       "  <thead>\n",
       "    <tr style=\"text-align: right;\">\n",
       "      <th></th>\n",
       "      <th>lucro total</th>\n",
       "      <th>valor 3% anual</th>\n",
       "      <th>Meta Anual + 3%</th>\n",
       "      <th>Meta Mensal + 3%</th>\n",
       "    </tr>\n",
       "  </thead>\n",
       "  <tbody>\n",
       "    <tr>\n",
       "      <th>2018</th>\n",
       "      <td>-1799.0</td>\n",
       "      <td>-53.00</td>\n",
       "      <td>-1745.03</td>\n",
       "      <td>-145.41</td>\n",
       "    </tr>\n",
       "    <tr>\n",
       "      <th>2019</th>\n",
       "      <td>25754.0</td>\n",
       "      <td>772.62</td>\n",
       "      <td>26562.62</td>\n",
       "      <td>2210.51</td>\n",
       "    </tr>\n",
       "  </tbody>\n",
       "</table>\n",
       "</div>"
      ],
      "text/plain": [
       "      lucro total  valor 3% anual  Meta Anual + 3%  Meta Mensal + 3%\n",
       "2018      -1799.0          -53.00         -1745.03           -145.41\n",
       "2019      25754.0          772.62         26562.62           2210.51"
      ]
     },
     "execution_count": 995,
     "metadata": {},
     "output_type": "execute_result"
    }
   ],
   "source": [
    "metrica = (\n",
    "    pd.Series([-1799,25754], index=[2018,2019], name = 'lucro total'),\n",
    "    pd.Series([-53,772.62], index=[2018,2019], name = 'valor 3% anual'),\n",
    "    pd.Series([-1745.03,26562.62], index=[2018,2019], name = 'Meta Anual + 3%'),\n",
    "    pd.Series([-145.41,2210.51], index=[2018,2019], name = 'Meta Mensal + 3%')\n",
    "            )\n",
    "df_metrica = pd.DataFrame(metrica).T\n",
    "df_metrica\n",
    "\n",
    "#dfi.export(df_metrica, 'df_meta.png')"
   ]
  },
  {
   "cell_type": "code",
   "execution_count": null,
   "id": "f915b6f5-4939-4c37-af95-88a65f4b0701",
   "metadata": {},
   "outputs": [],
   "source": [
    "1.Qual o valor que representa a meta de 3% de crescimento de lucro ao ano? \n",
    "O valor que representa 3% da  meta no ano de 2018 e de R$-53.00 negativo, pois a maior parte do ano a empresa\n",
    "trabalhou em dívida. E no ano de 2019 R$ 772.62 aqui o valor já e positivo, pois a empresa se recuperou.\n",
    "\n",
    "Porque os valores da meta são tão baixos?\n",
    "Essa empresa indiana e microporte que trabalha pela internet e teve um início não rentável, como será explicado\n",
    "nos períodos mensais."
   ]
  },
  {
   "cell_type": "markdown",
   "id": "05356b91-f3ff-49bf-a223-59f11ec4eff2",
   "metadata": {},
   "source": [
    "### 2.Quais são os periodos mensais do ano 2018 e 2019 que batem a meta?"
   ]
  },
  {
   "cell_type": "code",
   "execution_count": 906,
   "id": "20f67084-9130-4fd7-8d99-cf3456997d51",
   "metadata": {},
   "outputs": [],
   "source": [
    "# Estrutura lucro mensal 2018\n",
    "ano_18 = ord_det[ord_det['Year']==2018]\n",
    "ano_18 = ano_18.groupby(['Month'])['Profit'].sum().reset_index()\n",
    "\n",
    "# Estrutura lucro mensal 2019\n",
    "ano_19 = ord_det[ord_det['Year']==2019]\n",
    "ano_19 = ano_19.groupby(['Month'])['Profit'].sum().reset_index()"
   ]
  },
  {
   "cell_type": "code",
   "execution_count": 902,
   "id": "8cd37d9d-c9db-4c2e-be28-2c31ec14f57c",
   "metadata": {},
   "outputs": [
    {
     "data": {
      "text/html": [
       "<div>\n",
       "<style scoped>\n",
       "    .dataframe tbody tr th:only-of-type {\n",
       "        vertical-align: middle;\n",
       "    }\n",
       "\n",
       "    .dataframe tbody tr th {\n",
       "        vertical-align: top;\n",
       "    }\n",
       "\n",
       "    .dataframe thead th {\n",
       "        text-align: right;\n",
       "    }\n",
       "</style>\n",
       "<table border=\"1\" class=\"dataframe\">\n",
       "  <thead>\n",
       "    <tr style=\"text-align: right;\">\n",
       "      <th></th>\n",
       "      <th>Month</th>\n",
       "      <th>Profit</th>\n",
       "    </tr>\n",
       "  </thead>\n",
       "  <tbody>\n",
       "    <tr>\n",
       "      <th>0</th>\n",
       "      <td>1</td>\n",
       "      <td>-3296.0</td>\n",
       "    </tr>\n",
       "    <tr>\n",
       "      <th>1</th>\n",
       "      <td>2</td>\n",
       "      <td>685.0</td>\n",
       "    </tr>\n",
       "    <tr>\n",
       "      <th>2</th>\n",
       "      <td>3</td>\n",
       "      <td>669.0</td>\n",
       "    </tr>\n",
       "  </tbody>\n",
       "</table>\n",
       "</div>"
      ],
      "text/plain": [
       "   Month  Profit\n",
       "0      1 -3296.0\n",
       "1      2   685.0\n",
       "2      3   669.0"
      ]
     },
     "execution_count": 902,
     "metadata": {},
     "output_type": "execute_result"
    }
   ],
   "source": [
    "#lucro mensal 2018\n",
    "ano_18.head(3)"
   ]
  },
  {
   "cell_type": "code",
   "execution_count": 996,
   "id": "6fdc5ea3-4226-44e7-a614-2fca3d7126bb",
   "metadata": {},
   "outputs": [
    {
     "data": {
      "text/html": [
       "<div>\n",
       "<style scoped>\n",
       "    .dataframe tbody tr th:only-of-type {\n",
       "        vertical-align: middle;\n",
       "    }\n",
       "\n",
       "    .dataframe tbody tr th {\n",
       "        vertical-align: top;\n",
       "    }\n",
       "\n",
       "    .dataframe thead th {\n",
       "        text-align: right;\n",
       "    }\n",
       "</style>\n",
       "<table border=\"1\" class=\"dataframe\">\n",
       "  <thead>\n",
       "    <tr style=\"text-align: right;\">\n",
       "      <th></th>\n",
       "      <th>Month</th>\n",
       "      <th>Profit</th>\n",
       "    </tr>\n",
       "  </thead>\n",
       "  <tbody>\n",
       "    <tr>\n",
       "      <th>0</th>\n",
       "      <td>1</td>\n",
       "      <td>8655.0</td>\n",
       "    </tr>\n",
       "    <tr>\n",
       "      <th>1</th>\n",
       "      <td>2</td>\n",
       "      <td>2291.0</td>\n",
       "    </tr>\n",
       "    <tr>\n",
       "      <th>2</th>\n",
       "      <td>3</td>\n",
       "      <td>6633.0</td>\n",
       "    </tr>\n",
       "  </tbody>\n",
       "</table>\n",
       "</div>"
      ],
      "text/plain": [
       "   Month  Profit\n",
       "0      1  8655.0\n",
       "1      2  2291.0\n",
       "2      3  6633.0"
      ]
     },
     "execution_count": 996,
     "metadata": {},
     "output_type": "execute_result"
    }
   ],
   "source": [
    "# Lucro mensal 2019\n",
    "ano_19.head(3)"
   ]
  },
  {
   "cell_type": "code",
   "execution_count": 998,
   "id": "46b11f77-c2be-4e2c-a2d1-b5eb3abdfcfc",
   "metadata": {},
   "outputs": [
    {
     "data": {
      "image/png": "[encoded data removed]",
      "text/plain": [
       "<Figure size 1400x400 with 2 Axes>"
      ]
     },
     "metadata": {},
     "output_type": "display_data"
    }
   ],
   "source": [
    "# Estrutra dos graficos\n",
    "fig, ax = plt.subplots(1,2, figsize=(14,4))\n",
    "fig.suptitle('Lucro mensal do ano 2018 e 2019', size=15)\n",
    "\n",
    "# 2018\n",
    "sns.lineplot(ax= ax[0], x='Month', y='Profit', data=ano_18);\n",
    "ax[0].set_title('Lucro 2018')\n",
    "ax[0].axhline(y=(-203.88), linestyle='dotted', color='red', label='meta')\n",
    "ax[0].legend();\n",
    "\n",
    "# 2019\n",
    "sns.lineplot(ax= ax[1], x='Month', y='Profit', data=ano_19);\n",
    "ax[1].set_title('Lucro 2019');\n",
    "ax[1].axhline(y=(2210.51), linestyle='dotted', color='green', label='meta')\n",
    "ax[1].legend();\n",
    "\n",
    "plt.savefig('lucro mensal 2018 e 2019.png')"
   ]
  },
  {
   "cell_type": "code",
   "execution_count": null,
   "id": "d0892274-5790-4ccb-af57-6849802249bf",
   "metadata": {},
   "outputs": [],
   "source": [
    "Quais são os períodos mensais do ano 2018 e 2019 bateram a meta?\n",
    "No ano de 2018  temos 84%  dos meses negativos ou abaixo de um valor ideal para ser considerado lucro, diante \n",
    "disso os meses que foi obtido um valor ideal ou bateu a meta e outubro, novembro e dezembro. Já no ano de 2019\n",
    "temos 76% dos meses abaixo da meta, mas apesar disso estão com valores positivos diferente do ano anterior."
   ]
  },
  {
   "cell_type": "markdown",
   "id": "955bda3f-76f7-4ad9-aa6a-00aacfed31a4",
   "metadata": {
    "toc-hr-collapsed": true
   },
   "source": [
    "### 3.Qual a proporção dos top 10 clientes em relação os demais? E qual impacto no lucro? "
   ]
  },
  {
   "cell_type": "code",
   "execution_count": 515,
   "id": "341d7c28-8aa2-4149-b8f2-1de857fd5557",
   "metadata": {},
   "outputs": [],
   "source": [
    "cliente_19 = ord_det[ord_det['Year'] == 2019]\n",
    "cliente_19 = cliente_19.groupby(['CustomerName'])['Profit'].sum().sort_values(ascending=False).reset_index()"
   ]
  },
  {
   "cell_type": "code",
   "execution_count": 517,
   "id": "126c8364-5d0b-4370-ac70-40d33323eb5c",
   "metadata": {},
   "outputs": [],
   "source": [
    "# Criando condição p/ variavel categorica\n",
    "cliente_19['Category'] = np.array(np.where(cliente_19['Profit'] >= 660, 'top 10','top 11 a 136'))\n",
    "\n",
    "# Mudando tipo de daddo\n",
    "cliente_19['Profit_int'] = cliente_19['Profit'].astype(int)"
   ]
  },
  {
   "cell_type": "code",
   "execution_count": 519,
   "id": "23fc3c7a-9735-4f38-9d04-fc6b99afb721",
   "metadata": {},
   "outputs": [
    {
     "data": {
      "text/html": [
       "<div>\n",
       "<style scoped>\n",
       "    .dataframe tbody tr th:only-of-type {\n",
       "        vertical-align: middle;\n",
       "    }\n",
       "\n",
       "    .dataframe tbody tr th {\n",
       "        vertical-align: top;\n",
       "    }\n",
       "\n",
       "    .dataframe thead th {\n",
       "        text-align: right;\n",
       "    }\n",
       "</style>\n",
       "<table border=\"1\" class=\"dataframe\">\n",
       "  <thead>\n",
       "    <tr style=\"text-align: right;\">\n",
       "      <th></th>\n",
       "      <th>CustomerName</th>\n",
       "      <th>Profit</th>\n",
       "      <th>Category</th>\n",
       "      <th>Profit_int</th>\n",
       "    </tr>\n",
       "  </thead>\n",
       "  <tbody>\n",
       "    <tr>\n",
       "      <th>0</th>\n",
       "      <td>Seema</td>\n",
       "      <td>1970.0</td>\n",
       "      <td>top 10</td>\n",
       "      <td>1970</td>\n",
       "    </tr>\n",
       "    <tr>\n",
       "      <th>1</th>\n",
       "      <td>Sarita</td>\n",
       "      <td>1219.0</td>\n",
       "      <td>top 10</td>\n",
       "      <td>1219</td>\n",
       "    </tr>\n",
       "    <tr>\n",
       "      <th>2</th>\n",
       "      <td>Parishi</td>\n",
       "      <td>906.0</td>\n",
       "      <td>top 10</td>\n",
       "      <td>906</td>\n",
       "    </tr>\n",
       "    <tr>\n",
       "      <th>3</th>\n",
       "      <td>Bhishm</td>\n",
       "      <td>903.0</td>\n",
       "      <td>top 10</td>\n",
       "      <td>903</td>\n",
       "    </tr>\n",
       "    <tr>\n",
       "      <th>4</th>\n",
       "      <td>Soumya</td>\n",
       "      <td>903.0</td>\n",
       "      <td>top 10</td>\n",
       "      <td>903</td>\n",
       "    </tr>\n",
       "    <tr>\n",
       "      <th>5</th>\n",
       "      <td>Pournamasi</td>\n",
       "      <td>889.0</td>\n",
       "      <td>top 10</td>\n",
       "      <td>889</td>\n",
       "    </tr>\n",
       "    <tr>\n",
       "      <th>6</th>\n",
       "      <td>Harshal</td>\n",
       "      <td>864.0</td>\n",
       "      <td>top 10</td>\n",
       "      <td>864</td>\n",
       "    </tr>\n",
       "    <tr>\n",
       "      <th>7</th>\n",
       "      <td>Yaanvi</td>\n",
       "      <td>683.0</td>\n",
       "      <td>top 10</td>\n",
       "      <td>683</td>\n",
       "    </tr>\n",
       "    <tr>\n",
       "      <th>8</th>\n",
       "      <td>Manju</td>\n",
       "      <td>672.0</td>\n",
       "      <td>top 10</td>\n",
       "      <td>672</td>\n",
       "    </tr>\n",
       "    <tr>\n",
       "      <th>9</th>\n",
       "      <td>Oshin</td>\n",
       "      <td>660.0</td>\n",
       "      <td>top 10</td>\n",
       "      <td>660</td>\n",
       "    </tr>\n",
       "    <tr>\n",
       "      <th>10</th>\n",
       "      <td>Pinky</td>\n",
       "      <td>635.0</td>\n",
       "      <td>top 11 a 136</td>\n",
       "      <td>635</td>\n",
       "    </tr>\n",
       "  </tbody>\n",
       "</table>\n",
       "</div>"
      ],
      "text/plain": [
       "   CustomerName  Profit      Category  Profit_int\n",
       "0         Seema  1970.0        top 10        1970\n",
       "1        Sarita  1219.0        top 10        1219\n",
       "2       Parishi   906.0        top 10         906\n",
       "3        Bhishm   903.0        top 10         903\n",
       "4        Soumya   903.0        top 10         903\n",
       "5    Pournamasi   889.0        top 10         889\n",
       "6       Harshal   864.0        top 10         864\n",
       "7        Yaanvi   683.0        top 10         683\n",
       "8         Manju   672.0        top 10         672\n",
       "9         Oshin   660.0        top 10         660\n",
       "10        Pinky   635.0  top 11 a 136         635"
      ]
     },
     "execution_count": 519,
     "metadata": {},
     "output_type": "execute_result"
    }
   ],
   "source": [
    "cliente_19.head(11)"
   ]
  },
  {
   "cell_type": "code",
   "execution_count": 520,
   "id": "c8c1a624-4325-401f-81ed-a9d454a1ecb6",
   "metadata": {},
   "outputs": [
    {
     "data": {
      "text/html": [
       "<div>\n",
       "<style scoped>\n",
       "    .dataframe tbody tr th:only-of-type {\n",
       "        vertical-align: middle;\n",
       "    }\n",
       "\n",
       "    .dataframe tbody tr th {\n",
       "        vertical-align: top;\n",
       "    }\n",
       "\n",
       "    .dataframe thead th {\n",
       "        text-align: right;\n",
       "    }\n",
       "</style>\n",
       "<table border=\"1\" class=\"dataframe\">\n",
       "  <thead>\n",
       "    <tr style=\"text-align: right;\">\n",
       "      <th></th>\n",
       "      <th>Category</th>\n",
       "      <th>Profit_int</th>\n",
       "    </tr>\n",
       "  </thead>\n",
       "  <tbody>\n",
       "    <tr>\n",
       "      <th>0</th>\n",
       "      <td>top 10</td>\n",
       "      <td>9669</td>\n",
       "    </tr>\n",
       "    <tr>\n",
       "      <th>1</th>\n",
       "      <td>top 11 a 136</td>\n",
       "      <td>16085</td>\n",
       "    </tr>\n",
       "  </tbody>\n",
       "</table>\n",
       "</div>"
      ],
      "text/plain": [
       "       Category  Profit_int\n",
       "0        top 10        9669\n",
       "1  top 11 a 136       16085"
      ]
     },
     "execution_count": 520,
     "metadata": {},
     "output_type": "execute_result"
    }
   ],
   "source": [
    "# Agrupando valor pela variavel categorica.\n",
    "tab_cliente_19 = cliente_19.groupby(['Category'])['Profit_int'].sum().reset_index()\n",
    "tab_cliente_19"
   ]
  },
  {
   "cell_type": "markdown",
   "id": "d3c46a30-7025-4ce2-afcc-4ad68ba1f743",
   "metadata": {},
   "source": [
    "#### Calculo para descobrir o percentual dos top 10 cliente:"
   ]
  },
  {
   "cell_type": "code",
   "execution_count": 464,
   "id": "dc6bc355-4492-4c03-a139-35e23cafd0e7",
   "metadata": {},
   "outputs": [
    {
     "data": {
      "text/plain": [
       "CustomerName    SeemaSaritaParishiBhishmSoumyaPournamasiHarsha...\n",
       "Profit                                                     9669.0\n",
       "dtype: object"
      ]
     },
     "execution_count": 464,
     "metadata": {},
     "output_type": "execute_result"
    }
   ],
   "source": [
    "#top 10 clientes\n",
    "cliente_19.head(10).sum()"
   ]
  },
  {
   "cell_type": "code",
   "execution_count": 506,
   "id": "7b488511-5e00-4ef8-94be-a862ff66ba65",
   "metadata": {},
   "outputs": [
    {
     "data": {
      "text/plain": [
       "CustomerName    PinkyMuskanMukeshShrutiArpitaJesalSudhirParthK...\n",
       "Profit                                                    16085.0\n",
       "dtype: object"
      ]
     },
     "execution_count": 506,
     "metadata": {},
     "output_type": "execute_result"
    }
   ],
   "source": [
    "#Top 11 a 136 clientes\n",
    "cliente_19.loc[10:136,['CustomerName','Profit']].sum()"
   ]
  },
  {
   "cell_type": "code",
   "execution_count": 465,
   "id": "2ae215ba-06fc-4de0-9c18-add27a73bcf7",
   "metadata": {},
   "outputs": [
    {
     "data": {
      "text/plain": [
       "CustomerName    SeemaSaritaParishiBhishmSoumyaPournamasiHarsha...\n",
       "Profit                                                    25754.0\n",
       "dtype: object"
      ]
     },
     "execution_count": 465,
     "metadata": {},
     "output_type": "execute_result"
    }
   ],
   "source": [
    "#total\n",
    "cliente_19.sum()"
   ]
  },
  {
   "cell_type": "code",
   "execution_count": 508,
   "id": "c99a1897-1d24-4148-b2ae-8b8bd0baf3b1",
   "metadata": {},
   "outputs": [],
   "source": [
    "prim_7 = 9669  \n",
    "prim_8a31 = 16085 \n",
    "total = 25754"
   ]
  },
  {
   "cell_type": "code",
   "execution_count": 497,
   "id": "fd178362-e321-4fe5-a0a3-436ffba69bdd",
   "metadata": {},
   "outputs": [
    {
     "data": {
      "text/plain": [
       "37.54368253475188"
      ]
     },
     "execution_count": 505,
     "metadata": {},
     "output_type": "execute_result"
    }
   ],
   "source": [
    "#Valor percentual do top 10 em relação ao restante\n",
    "prim_7/total*100"
   ]
  },
  {
   "cell_type": "code",
   "execution_count": 509,
   "id": "a6f171b1-f66f-4b60-ad80-83d4168e3f48",
   "metadata": {},
   "outputs": [
    {
     "data": {
      "text/plain": [
       "62.45631746524811"
      ]
     },
     "execution_count": 509,
     "metadata": {},
     "output_type": "execute_result"
    }
   ],
   "source": [
    "prim_8a31/total*100"
   ]
  },
  {
   "cell_type": "code",
   "execution_count": 871,
   "id": "7ca543eb-fdd0-4754-bd53-74f55011f116",
   "metadata": {},
   "outputs": [
    {
     "data": {
      "image/png": "[encoded data removed]",
      "text/plain": [
       "<Figure size 640x480 with 1 Axes>"
      ]
     },
     "metadata": {},
     "output_type": "display_data"
    }
   ],
   "source": [
    "# Grafico top 10\n",
    "ax = sns.barplot(x='Category', y='Profit_int', data=tab_cliente_19, errorbar=None)\n",
    "ax.set_title('Impacto top 10 clientes em relação aos demais', size=15);\n",
    "ax.text(0,10000, '37%', size=13)\n",
    "ax.text(1,16500, '62%', size=13)\n",
    "ax.set_ylim(0,18000);\n",
    "\n",
    "plt.savefig('impacto top 10 cliante em relação aos demais')"
   ]
  },
  {
   "cell_type": "code",
   "execution_count": null,
   "id": "8fb18425-40aa-4d5c-aa2c-e615e5811330",
   "metadata": {},
   "outputs": [],
   "source": [
    "Qual a proporção dos top 10 clientes em relação os demais? E qual impacto no lucro?\n",
    "Esse pequeno grupo de 10 clientes tem um impacto financeiro referente a 37% de todo o lucro. E os 126 clientes restantes dividem os 62% do lucro obtido pela empresa.\n",
    "    \n",
    "Vale apena criar uma partição só para esse pequeno grupo? \n",
    "Sim, pois tem um grande impacto no lucro. E não, pois e menos de 10% do número total de cliente e vai exigir uma maior complexidade."
   ]
  },
  {
   "cell_type": "markdown",
   "id": "5c0696e6-17e0-47e0-9832-9572c9668de0",
   "metadata": {},
   "source": [
    "### 4.Top 7 estados que aparecem em 2018 e 2019? "
   ]
  },
  {
   "cell_type": "code",
   "execution_count": 908,
   "id": "8873047d-3b13-47a1-b8e6-d01a08a949f0",
   "metadata": {},
   "outputs": [
    {
     "data": {
      "text/html": [
       "<div>\n",
       "<style scoped>\n",
       "    .dataframe tbody tr th:only-of-type {\n",
       "        vertical-align: middle;\n",
       "    }\n",
       "\n",
       "    .dataframe tbody tr th {\n",
       "        vertical-align: top;\n",
       "    }\n",
       "\n",
       "    .dataframe thead th {\n",
       "        text-align: right;\n",
       "    }\n",
       "</style>\n",
       "<table border=\"1\" class=\"dataframe\">\n",
       "  <thead>\n",
       "    <tr style=\"text-align: right;\">\n",
       "      <th></th>\n",
       "      <th>State</th>\n",
       "      <th>Profit</th>\n",
       "      <th>Year</th>\n",
       "    </tr>\n",
       "  </thead>\n",
       "  <tbody>\n",
       "    <tr>\n",
       "      <th>0</th>\n",
       "      <td>Gujarat</td>\n",
       "      <td>-1148.0</td>\n",
       "      <td>2018</td>\n",
       "    </tr>\n",
       "    <tr>\n",
       "      <th>1</th>\n",
       "      <td>Gujarat</td>\n",
       "      <td>-12.0</td>\n",
       "      <td>2018</td>\n",
       "    </tr>\n",
       "    <tr>\n",
       "      <th>2</th>\n",
       "      <td>Gujarat</td>\n",
       "      <td>-2.0</td>\n",
       "      <td>2018</td>\n",
       "    </tr>\n",
       "  </tbody>\n",
       "</table>\n",
       "</div>"
      ],
      "text/plain": [
       "     State  Profit  Year\n",
       "0  Gujarat -1148.0  2018\n",
       "1  Gujarat   -12.0  2018\n",
       "2  Gujarat    -2.0  2018"
      ]
     },
     "execution_count": 908,
     "metadata": {},
     "output_type": "execute_result"
    }
   ],
   "source": [
    "# Planilha só com variaveis que vou usar\n",
    "state_year = ord_det[['State','Profit','Year']]\n",
    "state_year.head(3)"
   ]
  },
  {
   "cell_type": "code",
   "execution_count": 622,
   "id": "60b366af-a279-41b5-a15f-53df7b042868",
   "metadata": {},
   "outputs": [],
   "source": [
    "#Filtrei por cada ano\n",
    "state_year_19 = state_year[state_year['Year']==2019]\n",
    "\n",
    "state_year_18 = state_year[state_year['Year']==2018]"
   ]
  },
  {
   "cell_type": "code",
   "execution_count": 939,
   "id": "99700eeb-c47b-440e-a502-b95514e4bb3b",
   "metadata": {},
   "outputs": [
    {
     "data": {
      "text/html": [
       "<div>\n",
       "<style scoped>\n",
       "    .dataframe tbody tr th:only-of-type {\n",
       "        vertical-align: middle;\n",
       "    }\n",
       "\n",
       "    .dataframe tbody tr th {\n",
       "        vertical-align: top;\n",
       "    }\n",
       "\n",
       "    .dataframe thead th {\n",
       "        text-align: right;\n",
       "    }\n",
       "</style>\n",
       "<table border=\"1\" class=\"dataframe\">\n",
       "  <thead>\n",
       "    <tr style=\"text-align: right;\">\n",
       "      <th></th>\n",
       "      <th>State</th>\n",
       "      <th>Profit</th>\n",
       "    </tr>\n",
       "  </thead>\n",
       "  <tbody>\n",
       "    <tr>\n",
       "      <th>0</th>\n",
       "      <td>Madhya Pradesh</td>\n",
       "      <td>5528.0</td>\n",
       "    </tr>\n",
       "    <tr>\n",
       "      <th>1</th>\n",
       "      <td>Maharashtra</td>\n",
       "      <td>3880.0</td>\n",
       "    </tr>\n",
       "    <tr>\n",
       "      <th>2</th>\n",
       "      <td>Delhi</td>\n",
       "      <td>2881.0</td>\n",
       "    </tr>\n",
       "    <tr>\n",
       "      <th>3</th>\n",
       "      <td>Uttar Pradesh</td>\n",
       "      <td>2329.0</td>\n",
       "    </tr>\n",
       "    <tr>\n",
       "      <th>4</th>\n",
       "      <td>West Bengal</td>\n",
       "      <td>2129.0</td>\n",
       "    </tr>\n",
       "    <tr>\n",
       "      <th>5</th>\n",
       "      <td>Rajasthan</td>\n",
       "      <td>1608.0</td>\n",
       "    </tr>\n",
       "    <tr>\n",
       "      <th>6</th>\n",
       "      <td>Jammu and Kashmir</td>\n",
       "      <td>1207.0</td>\n",
       "    </tr>\n",
       "  </tbody>\n",
       "</table>\n",
       "</div>"
      ],
      "text/plain": [
       "               State  Profit\n",
       "0     Madhya Pradesh  5528.0\n",
       "1        Maharashtra  3880.0\n",
       "2              Delhi  2881.0\n",
       "3      Uttar Pradesh  2329.0\n",
       "4        West Bengal  2129.0\n",
       "5          Rajasthan  1608.0\n",
       "6  Jammu and Kashmir  1207.0"
      ]
     },
     "execution_count": 939,
     "metadata": {},
     "output_type": "execute_result"
    }
   ],
   "source": [
    "# Agrupei por estado que mais lucro em 2019\n",
    "top_19_state_year = (\n",
    "                    state_year_19.groupby(['State'])['Profit']\n",
    "                    .sum()\n",
    "                    .sort_values(ascending=False)\n",
    "                    .reset_index()\n",
    "                    .head(7)\n",
    "                    )\n",
    "top_19_state_year.head(7)"
   ]
  },
  {
   "cell_type": "code",
   "execution_count": 938,
   "id": "5ca382ce-ca10-48ea-9a11-e07357ff0d13",
   "metadata": {},
   "outputs": [
    {
     "data": {
      "text/html": [
       "<div>\n",
       "<style scoped>\n",
       "    .dataframe tbody tr th:only-of-type {\n",
       "        vertical-align: middle;\n",
       "    }\n",
       "\n",
       "    .dataframe tbody tr th {\n",
       "        vertical-align: top;\n",
       "    }\n",
       "\n",
       "    .dataframe thead th {\n",
       "        text-align: right;\n",
       "    }\n",
       "</style>\n",
       "<table border=\"1\" class=\"dataframe\">\n",
       "  <thead>\n",
       "    <tr style=\"text-align: right;\">\n",
       "      <th></th>\n",
       "      <th>State</th>\n",
       "      <th>Profit</th>\n",
       "    </tr>\n",
       "  </thead>\n",
       "  <tbody>\n",
       "    <tr>\n",
       "      <th>0</th>\n",
       "      <td>Maharashtra</td>\n",
       "      <td>2296.0</td>\n",
       "    </tr>\n",
       "    <tr>\n",
       "      <th>1</th>\n",
       "      <td>Kerala</td>\n",
       "      <td>1112.0</td>\n",
       "    </tr>\n",
       "    <tr>\n",
       "      <th>2</th>\n",
       "      <td>Uttar Pradesh</td>\n",
       "      <td>908.0</td>\n",
       "    </tr>\n",
       "    <tr>\n",
       "      <th>3</th>\n",
       "      <td>Himachal Pradesh</td>\n",
       "      <td>478.0</td>\n",
       "    </tr>\n",
       "    <tr>\n",
       "      <th>4</th>\n",
       "      <td>Haryana</td>\n",
       "      <td>385.0</td>\n",
       "    </tr>\n",
       "    <tr>\n",
       "      <th>5</th>\n",
       "      <td>West Bengal</td>\n",
       "      <td>371.0</td>\n",
       "    </tr>\n",
       "    <tr>\n",
       "      <th>6</th>\n",
       "      <td>Goa</td>\n",
       "      <td>292.0</td>\n",
       "    </tr>\n",
       "  </tbody>\n",
       "</table>\n",
       "</div>"
      ],
      "text/plain": [
       "              State  Profit\n",
       "0       Maharashtra  2296.0\n",
       "1           Kerala   1112.0\n",
       "2     Uttar Pradesh   908.0\n",
       "3  Himachal Pradesh   478.0\n",
       "4           Haryana   385.0\n",
       "5       West Bengal   371.0\n",
       "6               Goa   292.0"
      ]
     },
     "execution_count": 938,
     "metadata": {},
     "output_type": "execute_result"
    }
   ],
   "source": [
    "# Agrupei por estado que mais lucro em 2018\n",
    "top_18_state_year = (\n",
    "                    state_year_18.groupby(['State'])['Profit']\n",
    "                    .sum()\n",
    "                    .sort_values(ascending=False)\n",
    "                    .reset_index()\n",
    "                    .head(7)\n",
    "                    )\n",
    "top_18_state_year.head(7)"
   ]
  },
  {
   "cell_type": "markdown",
   "id": "f37a1ecd-ff28-4767-986c-b192ff2fada3",
   "metadata": {},
   "source": [
    "#### Calculo para descobrir meta 3% dos top 7 estados"
   ]
  },
  {
   "cell_type": "code",
   "execution_count": 934,
   "id": "7d0bbbdb-4a03-43da-b9df-0a4fc114f974",
   "metadata": {},
   "outputs": [
    {
     "data": {
      "text/plain": [
       "19562.0"
      ]
     },
     "execution_count": 934,
     "metadata": {},
     "output_type": "execute_result"
    }
   ],
   "source": [
    "top_19_state_year['Profit'].head(7).sum()"
   ]
  },
  {
   "cell_type": "code",
   "execution_count": 935,
   "id": "881e3862-b5ee-41e6-918f-630f95495a8e",
   "metadata": {},
   "outputs": [
    {
     "data": {
      "text/plain": [
       "586.86"
      ]
     },
     "execution_count": 935,
     "metadata": {},
     "output_type": "execute_result"
    }
   ],
   "source": [
    "3 * 19562/ 100"
   ]
  },
  {
   "cell_type": "code",
   "execution_count": 932,
   "id": "c269dfed-b884-4c6f-809e-c8e842bf902c",
   "metadata": {},
   "outputs": [
    {
     "data": {
      "text/plain": [
       "5842.0"
      ]
     },
     "execution_count": 932,
     "metadata": {},
     "output_type": "execute_result"
    }
   ],
   "source": [
    "top_18_state_year['Profit'].head(7).sum()"
   ]
  },
  {
   "cell_type": "code",
   "execution_count": 933,
   "id": "456e1bdd-1c63-47f3-94c7-31c7f13f1d4d",
   "metadata": {},
   "outputs": [
    {
     "data": {
      "text/plain": [
       "175.26"
      ]
     },
     "execution_count": 933,
     "metadata": {},
     "output_type": "execute_result"
    }
   ],
   "source": [
    "3 * 5842 / 100"
   ]
  },
  {
   "cell_type": "code",
   "execution_count": null,
   "id": "e247a624-4904-41b5-b9b8-6dcb9fc51050",
   "metadata": {},
   "outputs": [],
   "source": [
    "Meta por estado:\n",
    "O valor percentual referente a 3% de crescimento dos top 7 estados no ano de 2018 e de R$ 175.26 e no ano de 2019 R$ 586,86."
   ]
  },
  {
   "cell_type": "code",
   "execution_count": 978,
   "id": "3ed6e894-fdf8-427c-8064-52a51b017c3e",
   "metadata": {},
   "outputs": [
    {
     "data": {
      "image/png": "[encoded data removed]",
      "text/plain": [
       "<Figure size 640x480 with 1 Axes>"
      ]
     },
     "metadata": {},
     "output_type": "display_data"
    }
   ],
   "source": [
    "# Grafico ano 2018\n",
    "ax = sns.barplot(y='State', x='Profit', data= top_18_state_year);\n",
    "ax.set_title('Top 10 estados 2018', size=15)\n",
    "ax.axvline(x=(175), \n",
    "           linestyle='dotted', \n",
    "           color='red', \n",
    "           label='meta geral')\n",
    "ax.legend(loc='lower right');\n",
    "\n",
    "plt.savefig('Top 7 estados 2018.png')"
   ]
  },
  {
   "cell_type": "code",
   "execution_count": 979,
   "id": "e0c24fef-3e5e-4863-863a-64b9661b3111",
   "metadata": {},
   "outputs": [
    {
     "data": {
      "image/png": "[encoded data removed]",
      "text/plain": [
       "<Figure size 640x480 with 1 Axes>"
      ]
     },
     "metadata": {},
     "output_type": "display_data"
    }
   ],
   "source": [
    "# Grafico ano 2019\n",
    "ax = sns.barplot(y='State', x='Profit', data= top_19_state_year);\n",
    "ax.set_title('Top 10 estados 2019', size=15);\n",
    "ax.axvline(x=(586), \n",
    "           linestyle='dotted', \n",
    "           color='green', \n",
    "           label='meta geral')\n",
    "ax.legend()\n",
    "\n",
    "plt.savefig('Top 7 estados 2019.png');"
   ]
  },
  {
   "cell_type": "code",
   "execution_count": null,
   "id": "546aceed-e325-4bd5-8fa8-37a8ef0bb015",
   "metadata": {},
   "outputs": [],
   "source": [
    "Top 7 estados quem aparecem em 2018 e 2019? \n",
    "Somente 3 estados reaparecem no ano de 2019, mas todos eles forneceram um lucro muito maior. Além de estarem\n",
    "melhores posicionadas do que no ano anterior. \n",
    "\n",
    "Estados: Maharashtra, Uttar Pradeshe e West Bengal.\n",
    "\n",
    "Porque temos estados com lucro positivo no ano de 2018?\n",
    "Pois, mesmo tendo o lucro total negativo ainda tivemos 36% do total de estados que obtiveram um valor acima \n",
    "de 300 ou positivo. O que se consideramos somente os top 7 conseguimos um valor positivo."
   ]
  },
  {
   "cell_type": "markdown",
   "id": "0ff2d89d-9b62-464e-8721-ba8b4c50fdcc",
   "metadata": {},
   "source": [
    "### 5.Como esta o Lucro de produtos por categoria no ano de 2018 e 2019?   "
   ]
  },
  {
   "cell_type": "code",
   "execution_count": 809,
   "id": "82a896fd-8d42-4683-b70c-02412e3ca218",
   "metadata": {},
   "outputs": [
    {
     "data": {
      "text/html": [
       "<div>\n",
       "<style scoped>\n",
       "    .dataframe tbody tr th:only-of-type {\n",
       "        vertical-align: middle;\n",
       "    }\n",
       "\n",
       "    .dataframe tbody tr th {\n",
       "        vertical-align: top;\n",
       "    }\n",
       "\n",
       "    .dataframe thead th {\n",
       "        text-align: right;\n",
       "    }\n",
       "</style>\n",
       "<table border=\"1\" class=\"dataframe\">\n",
       "  <thead>\n",
       "    <tr style=\"text-align: right;\">\n",
       "      <th></th>\n",
       "      <th>Year</th>\n",
       "      <th>Category</th>\n",
       "      <th>Profit</th>\n",
       "    </tr>\n",
       "  </thead>\n",
       "  <tbody>\n",
       "    <tr>\n",
       "      <th>0</th>\n",
       "      <td>2018</td>\n",
       "      <td>Furniture</td>\n",
       "      <td>-1148.0</td>\n",
       "    </tr>\n",
       "    <tr>\n",
       "      <th>1</th>\n",
       "      <td>2018</td>\n",
       "      <td>Clothing</td>\n",
       "      <td>-12.0</td>\n",
       "    </tr>\n",
       "    <tr>\n",
       "      <th>2</th>\n",
       "      <td>2018</td>\n",
       "      <td>Clothing</td>\n",
       "      <td>-2.0</td>\n",
       "    </tr>\n",
       "    <tr>\n",
       "      <th>3</th>\n",
       "      <td>2018</td>\n",
       "      <td>Electronics</td>\n",
       "      <td>-56.0</td>\n",
       "    </tr>\n",
       "    <tr>\n",
       "      <th>4</th>\n",
       "      <td>2018</td>\n",
       "      <td>Electronics</td>\n",
       "      <td>-111.0</td>\n",
       "    </tr>\n",
       "  </tbody>\n",
       "</table>\n",
       "</div>"
      ],
      "text/plain": [
       "   Year     Category  Profit\n",
       "0  2018    Furniture -1148.0\n",
       "1  2018     Clothing   -12.0\n",
       "2  2018     Clothing    -2.0\n",
       "3  2018  Electronics   -56.0\n",
       "4  2018  Electronics  -111.0"
      ]
     },
     "execution_count": 809,
     "metadata": {},
     "output_type": "execute_result"
    }
   ],
   "source": [
    "#Planilha com variavel que usarei \n",
    "cat_year = ord_det[['Year', 'Category','Profit']]\n",
    "cat_year.head()"
   ]
  },
  {
   "cell_type": "code",
   "execution_count": 970,
   "id": "f45a955f-7e9f-4ade-999a-e81eda5a6f9e",
   "metadata": {},
   "outputs": [],
   "source": [
    "#Filtrando a planilha por cada ano individualmente\n",
    "cat_year_19 = cat_year[cat_year['Year'] == 2019]\n",
    "\n",
    "cat_year_18 = cat_year[cat_year['Year'] == 2018]"
   ]
  },
  {
   "cell_type": "code",
   "execution_count": 814,
   "id": "e1969676-4d14-4965-8bd6-b330587c84a3",
   "metadata": {},
   "outputs": [
    {
     "data": {
      "text/html": [
       "<div>\n",
       "<style scoped>\n",
       "    .dataframe tbody tr th:only-of-type {\n",
       "        vertical-align: middle;\n",
       "    }\n",
       "\n",
       "    .dataframe tbody tr th {\n",
       "        vertical-align: top;\n",
       "    }\n",
       "\n",
       "    .dataframe thead th {\n",
       "        text-align: right;\n",
       "    }\n",
       "</style>\n",
       "<table border=\"1\" class=\"dataframe\">\n",
       "  <thead>\n",
       "    <tr style=\"text-align: right;\">\n",
       "      <th></th>\n",
       "      <th>Category</th>\n",
       "      <th>Profit</th>\n",
       "    </tr>\n",
       "  </thead>\n",
       "  <tbody>\n",
       "    <tr>\n",
       "      <th>0</th>\n",
       "      <td>Clothing</td>\n",
       "      <td>2590.0</td>\n",
       "    </tr>\n",
       "    <tr>\n",
       "      <th>1</th>\n",
       "      <td>Electronics</td>\n",
       "      <td>352.0</td>\n",
       "    </tr>\n",
       "    <tr>\n",
       "      <th>2</th>\n",
       "      <td>Furniture</td>\n",
       "      <td>-4741.0</td>\n",
       "    </tr>\n",
       "  </tbody>\n",
       "</table>\n",
       "</div>"
      ],
      "text/plain": [
       "      Category  Profit\n",
       "0     Clothing  2590.0\n",
       "1  Electronics   352.0\n",
       "2    Furniture -4741.0"
      ]
     },
     "execution_count": 814,
     "metadata": {},
     "output_type": "execute_result"
    }
   ],
   "source": [
    "# Lucro por categoria 2018\n",
    "d_cat_year_18 = (cat_year_18.\n",
    "                 groupby(['Category'])['Profit']\n",
    "                 .sum()\n",
    "                 .sort_values(ascending=False)\n",
    "                 .reset_index()\n",
    "                 .head(5)\n",
    "                )\n",
    "d_cat_year_18"
   ]
  },
  {
   "cell_type": "code",
   "execution_count": 971,
   "id": "c5a81555-2e9f-4684-a867-ff53a5db83ea",
   "metadata": {},
   "outputs": [
    {
     "data": {
      "text/html": [
       "<div>\n",
       "<style scoped>\n",
       "    .dataframe tbody tr th:only-of-type {\n",
       "        vertical-align: middle;\n",
       "    }\n",
       "\n",
       "    .dataframe tbody tr th {\n",
       "        vertical-align: top;\n",
       "    }\n",
       "\n",
       "    .dataframe thead th {\n",
       "        text-align: right;\n",
       "    }\n",
       "</style>\n",
       "<table border=\"1\" class=\"dataframe\">\n",
       "  <thead>\n",
       "    <tr style=\"text-align: right;\">\n",
       "      <th></th>\n",
       "      <th>Category</th>\n",
       "      <th>Profit</th>\n",
       "    </tr>\n",
       "  </thead>\n",
       "  <tbody>\n",
       "    <tr>\n",
       "      <th>0</th>\n",
       "      <td>Electronics</td>\n",
       "      <td>10142.0</td>\n",
       "    </tr>\n",
       "    <tr>\n",
       "      <th>1</th>\n",
       "      <td>Clothing</td>\n",
       "      <td>8573.0</td>\n",
       "    </tr>\n",
       "    <tr>\n",
       "      <th>2</th>\n",
       "      <td>Furniture</td>\n",
       "      <td>7039.0</td>\n",
       "    </tr>\n",
       "  </tbody>\n",
       "</table>\n",
       "</div>"
      ],
      "text/plain": [
       "      Category   Profit\n",
       "0  Electronics  10142.0\n",
       "1     Clothing   8573.0\n",
       "2    Furniture   7039.0"
      ]
     },
     "execution_count": 971,
     "metadata": {},
     "output_type": "execute_result"
    }
   ],
   "source": [
    "# Lucro por categoria 2019\n",
    "d_cat_year_19 = (cat_year_19.\n",
    "                 groupby(['Category'])['Profit']\n",
    "                 .sum()\n",
    "                 .sort_values(ascending=False)\n",
    "                 .reset_index()\n",
    "                 .head(5)\n",
    "                )\n",
    "d_cat_year_19"
   ]
  },
  {
   "cell_type": "markdown",
   "id": "698c6120-190f-42b6-8190-53dd22d2c98a",
   "metadata": {},
   "source": [
    "#### Calculo para descobrir meta 3% dos produtos "
   ]
  },
  {
   "cell_type": "code",
   "execution_count": 838,
   "id": "6236d3a9-3339-4392-a34d-d7cd5d819e79",
   "metadata": {},
   "outputs": [
    {
     "data": {
      "text/plain": [
       "25754.0"
      ]
     },
     "execution_count": 838,
     "metadata": {},
     "output_type": "execute_result"
    }
   ],
   "source": [
    "d_cat_year_19['Profit'].sum()"
   ]
  },
  {
   "cell_type": "code",
   "execution_count": 839,
   "id": "a363d323-df2b-45f1-bdc3-1c3957cc1220",
   "metadata": {},
   "outputs": [
    {
     "data": {
      "text/plain": [
       "8584.666666666666"
      ]
     },
     "execution_count": 839,
     "metadata": {},
     "output_type": "execute_result"
    }
   ],
   "source": [
    "# valor total didivo por categoria\n",
    "25754.0 / 3"
   ]
  },
  {
   "cell_type": "code",
   "execution_count": 974,
   "id": "ff33b87f-2203-40fa-b066-49c815043cd6",
   "metadata": {},
   "outputs": [
    {
     "data": {
      "text/plain": [
       "257.52"
      ]
     },
     "execution_count": 974,
     "metadata": {},
     "output_type": "execute_result"
    }
   ],
   "source": [
    "# 3% de meta por categoria\n",
    "3 * 8584 / 100"
   ]
  },
  {
   "cell_type": "code",
   "execution_count": null,
   "id": "f39e2fac-b5b2-4330-a57f-04ff0f005800",
   "metadata": {},
   "outputs": [],
   "source": [
    "# meta por categoria + 3%\n",
    "8.841"
   ]
  },
  {
   "cell_type": "code",
   "execution_count": 842,
   "id": "47464569-bceb-4c99-8aac-e841f78a864d",
   "metadata": {},
   "outputs": [
    {
     "data": {
      "text/plain": [
       "-1799.0"
      ]
     },
     "execution_count": 842,
     "metadata": {},
     "output_type": "execute_result"
    }
   ],
   "source": [
    "d_cat_year_18['Profit'].sum()"
   ]
  },
  {
   "cell_type": "code",
   "execution_count": null,
   "id": "4bc9b902-b581-4fec-b459-e1a8935218ce",
   "metadata": {},
   "outputs": [
    {
     "data": {
      "text/plain": [
       "-599.6666666666666"
      ]
     },
     "execution_count": 843,
     "metadata": {},
     "output_type": "execute_result"
    }
   ],
   "source": [
    "# valor total didivo por categoria\n",
    "-1799 / 3"
   ]
  },
  {
   "cell_type": "code",
   "execution_count": null,
   "id": "1815cd44-aa65-4823-90ed-adb46ba94010",
   "metadata": {},
   "outputs": [
    {
     "data": {
      "text/plain": [
       "-17.97"
      ]
     },
     "execution_count": 848,
     "metadata": {},
     "output_type": "execute_result"
    }
   ],
   "source": [
    "# valor total didivo por categoria\n",
    "3 * -599 / 100"
   ]
  },
  {
   "cell_type": "code",
   "execution_count": null,
   "id": "260b20ae-d8a4-4a09-a9b5-98dcf1f6cf94",
   "metadata": {},
   "outputs": [],
   "source": [
    "# meta por categoria + 3%\n",
    "-581"
   ]
  },
  {
   "cell_type": "code",
   "execution_count": null,
   "id": "eb819a90-344d-491b-82a0-bd24dada0605",
   "metadata": {},
   "outputs": [],
   "source": [
    "Meta por estado:\n",
    "O valor percentual referente a 3% de crescimento por produto e de R$-518,00 no ano 2018 e de R$ 8841,62 no ano de 2019."
   ]
  },
  {
   "cell_type": "code",
   "execution_count": 1001,
   "id": "423c1c46-cf43-4d1c-8c98-40debdffe3d6",
   "metadata": {},
   "outputs": [
    {
     "data": {
      "image/png": "[encoded data removed]",
      "text/plain": [
       "<Figure size 1100x450 with 2 Axes>"
      ]
     },
     "metadata": {},
     "output_type": "display_data"
    }
   ],
   "source": [
    "# Grafico \n",
    "fig, ax = plt.subplots(1,2, figsize=(11,4.5))\n",
    "fig.suptitle('Lucro por categoria de produto', size=16)\n",
    "\n",
    "# 2019\n",
    "sns.barplot(ax = ax[1],x='Category', y='Profit', data=d_cat_year_19)\n",
    "ax[1].set_title('2019', size=12)\n",
    "ax[1].axhline(y=(8841), linestyle='dotted', color='green', label='meta')\n",
    "ax[1].legend();\n",
    "\n",
    "# 2018\n",
    "sns.barplot(ax = ax[0], x='Category', y='Profit', data=d_cat_year_18)\n",
    "ax[0].set_title('2018', size=12)\n",
    "ax[0].axhline(y=(-518.00), linestyle='dotted', color='red', label='meta')\n",
    "ax[0].legend();\n",
    "\n",
    "#plt.savefig('lucro por categoria.png')"
   ]
  },
  {
   "cell_type": "code",
   "execution_count": null,
   "id": "3411dd77-e165-4c73-aa72-32b0cd756257",
   "metadata": {},
   "outputs": [],
   "source": [
    "Como esta o Lucro de produtos por categoria no ano de 2018 e 2019?\n",
    "No ano 2018 a categoria Clothing e Eletronics ambas conseguem bate a meta, mas o impacto negativo \n",
    "da categoria furniture foi tão grande que suprimiu os valores positivos. Ocasionando em uma \n",
    "meta minima mas negativa e grande ano de perda. \n",
    "\n",
    "Já no ano de 2019 todas as categorias tiveram valores positivos muito expressivos (6x maior), oque\n",
    "gerando uma meta muito acima do previsa e ainda assim a batendo."
   ]
  },
  {
   "cell_type": "markdown",
   "id": "2200ba17-e74a-4bdd-bf9f-8dac7d78fc55",
   "metadata": {},
   "source": [
    "# Descobertas"
   ]
  },
  {
   "cell_type": "code",
   "execution_count": null,
   "id": "586da717-ed10-4b29-9546-7bafe3687b04",
   "metadata": {},
   "outputs": [],
   "source": [
    "1. Quanto a lucro o ano 2018 o resultado foi péssimo. A ponto do lucro total ser negativo, \n",
    "   mas em 2019 tivemos uma grande recuperação.\n",
    "    \n",
    "2. Quanto aos produtos a maior parte da concentração do lucro advêm que poucos produtos vendidos para muitos \n",
    "   clientes (especificamente menos de 9 produtos por cliente).\n",
    "    \n",
    "3. Quanto a distribuição de lucro mensal temos um grande crescimento exponencial no mês 9 de 2018 até o mês 4 de 2019.\n",
    "\n",
    "4. Quanto à proporção de clientes em relação ao lucro foi concluído que os top10 clientes \n",
    "   representam 40% de lucro juntando o ano de 2018 e 2019.\n",
    "    \n",
    "5. Quanto a distribuição de lucro por estado, apesar do lucro total negativo em 2018 temos mais de 36% do \n",
    "   número de estados com lucro positivo ou acima de R$300,00."
   ]
  },
  {
   "cell_type": "markdown",
   "id": "3b86dce3-6664-403c-b96f-69e61cfcf0e1",
   "metadata": {},
   "source": [
    "# Sugestão"
   ]
  },
  {
   "cell_type": "code",
   "execution_count": null,
   "id": "138a6028-ec5e-4870-8744-651efbeaa476",
   "metadata": {},
   "outputs": [],
   "source": [
    "Esperar obter uma consistência de lucro mensal e de produtos no próximo ano de pelo menos 6 meses, principalmente\n",
    "os produtos de categoria furnitere.\n",
    "\n",
    "Mas caso queira realiza o investimento já, recomendo realiza outra análise de produtos específicos da categoria \n",
    "funiture já que teve um grande impacto no lucro e um acompanhamento de lucro trimestral, se possível tente realiza uma\n",
    "previsão de lucro. "
   ]
  }
 ],
 "metadata": {
  "kernelspec": {
   "display_name": "Python 3 (ipykernel)",
   "language": "python",
   "name": "python3"
  },
  "language_info": {
   "codemirror_mode": {
    "name": "ipython",
    "version": 3
   },
   "file_extension": ".py",
   "mimetype": "text/x-python",
   "name": "python",
   "nbconvert_exporter": "python",
   "pygments_lexer": "ipython3",
   "version": "3.11.0"
  }
 },
 "nbformat": 4,
 "nbformat_minor": 5
}
